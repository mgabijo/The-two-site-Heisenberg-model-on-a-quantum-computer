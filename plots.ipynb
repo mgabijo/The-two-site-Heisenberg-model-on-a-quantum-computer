{
 "cells": [
  {
   "cell_type": "code",
   "execution_count": 1,
   "metadata": {},
   "outputs": [],
   "source": [
    "import matplotlib.pyplot as plt\n",
    "import pickle as pkl\n",
    "import numpy as np\n",
    "import scipy\n",
    "from scipy import stats\n"
   ]
  },
  {
   "cell_type": "markdown",
   "metadata": {},
   "source": [
    "# Plots and figures\n",
    "This notebook is used to plot the results of the algorithms."
   ]
  },
  {
   "cell_type": "code",
   "execution_count": 5,
   "metadata": {},
   "outputs": [],
   "source": [
    "# select the most probable entry of a dictionary and convert it to an integer\n",
    "def most_probable(dic):\n",
    "    m = list(dic)[0]\n",
    "    for n in list(dic):\n",
    "        if dic[n]>dic[m]:\n",
    "            m=n\n",
    "    return m\n",
    "\n",
    "def prepare_data(results,method='None'):\n",
    "    '''\n",
    "    Auxiliary function to prepare the data for plotting.\n",
    "    Input: results: list of dictionaries with the results of the algorithm\n",
    "           method: 'most probable' or 'circular' to select the most probable entry or to compute the circular mean\n",
    "    '''\n",
    "    if method == 'most probable':\n",
    "        results_most_probable = [most_probable(results[i]) for i in range(len(results))]\n",
    "        phase = [int(results_most_probable[i],base=2)/2**(3) for i in range(len(results_most_probable))]\n",
    "        return phase\n",
    "    if method == 'circular':\n",
    "        phase_circular = [np.sum([results[i][j]*np.exp(1j*int(j,2)) for j in results[i].keys()],dtype=complex) for i in range(len(results))]\n",
    "        phase_circular = [np.angle(phase_circular[i])/(2*np.pi) for i in range(len(phase_circular))]\n",
    "        return phase_circular\n",
    "    else:\n",
    "        print('No method selected')\n",
    "        return results\n",
    "    \n",
    "def plot_and_save(tau, phase ,tau_1,phase_1, xlabel, ylabel, save_path,name = None, regression = False,\n",
    "                  regression_lim = None, regression_lim_1 = None):\n",
    "    '''\n",
    "    Auxiliary function to plot and save the data.\n",
    "    Input: tau: list of tau values for the state (1/sqrt(2)|01>-|10>)\n",
    "           phase: list of phases retrieved for the state (1/sqrt(2)|01>-|10>)\n",
    "           tau_1: list of tau values for the state (1/sqrt(2)|01>+|10>)\n",
    "           phase_1: list of phases retrieved for the state (1/sqrt(2)|01>+|10>)\n",
    "           xlabel: label for the x axis\n",
    "           ylabel: label for the y axis\n",
    "           save_path: path to save the figure\n",
    "           name: name of the figure\n",
    "           regression: boolean to plot the regression line\n",
    "           regression_lim: list of two elements with the limits of the regression line for the state (1/sqrt(2)|01>-|10>)\n",
    "           regression_lim_1: list of two elements with the limits of the regression line for the state (1/sqrt(2)|01>+|10>)\n",
    "    '''\n",
    "    # plot the data\n",
    "    plt.figure(figsize=(10, 6))\n",
    "    plt.plot(tau,phase, label = r'State $\\frac{1}{\\sqrt{2}}|01\\rangle -|10\\rangle $', color = 'darkblue')  \n",
    "    plt.plot(tau_1,phase_1, label = r'State $\\frac{1}{\\sqrt{2}}|01\\rangle + |10\\rangle $', color = 'r')\n",
    "    \n",
    "    # plot the regression line\n",
    "    if regression:\n",
    "        # Determine the regression line\n",
    "        slope, intercept, r_value, p_value, std_err = stats.linregress(tau[regression_lim[0]:regression_lim[1]]\n",
    "                                                                       ,phase[regression_lim[0]:regression_lim[1]])\n",
    "        # Plot the regression line\n",
    "        plt.plot(tau[regression_lim[0]:regression_lim[1]], [intercept + slope*x for x in tau[regression_lim[0]:regression_lim[1]]], 'b',\n",
    "                 linestyle='dashed', label=fr'{round(slope,3)}$\\tau$+{round(intercept,3)}')\n",
    "        \n",
    "        print('slope: ',slope,'intercept: ',intercept,'r_value: ',r_value,'p_value: ',p_value,'std_err: ',std_err)\n",
    "        \n",
    "        slope, intercept, r_value, p_value, std_err = stats.linregress(tau_1[regression_lim_1[0]:regression_lim_1[1]],\n",
    "                                                                       phase_1[regression_lim_1[0]:regression_lim_1[1]])\n",
    "        plt.plot(tau_1[regression_lim_1[0]:regression_lim_1[1]], [intercept + slope*x for x in tau_1[regression_lim_1[0]:regression_lim_1[1]]]\n",
    "                 , 'lightcoral',linestyle='dashed', label=fr'{round(slope,3)}$\\tau$+{round(intercept,3)}')\n",
    "        print('slope: ',slope,'intercept: ',intercept,'r_value: ',r_value,'p_value: ',p_value,'std_err: ',std_err)\n",
    "     \n",
    "    # Figure settings    \n",
    "    plt.xlabel(r'$\\tau$', fontsize=18)\n",
    "    plt.ylabel(r'$\\phi$', fontsize=18)\n",
    "    plt.rcParams['font.size'] = 16\n",
    "    plt.rcParams['axes.labelsize'] = 16\n",
    "    plt.rcParams['legend.fontsize'] = 16\n",
    "    plt.rcParams['axes.linewidth'] = 2\n",
    "    plt.legend()\n",
    "    # Save the figure\n",
    "    plt.savefig(f'{save_path}/{name}.pdf', bbox_inches='tight',format='pdf')\n",
    "    plt.close()\n",
    "\n",
    "\n",
    "def plot_data(tau, results,tau_1,results_1, xlabel, ylabel, save_path, algorithm = None,name = None, regression = False,\n",
    "              regression_lim = None, regression_lim_1 = None):\n",
    "    '''\n",
    "    Main function to plot the data.\n",
    "    Input: tau: list of tau values for the state (1/sqrt(2)|01>-|10>)\n",
    "           results: list of dictionaries or floats, depending on the algorithm,\n",
    "                    with the results of the algorithm for the state (1/sqrt(2)|01>-|10>)\n",
    "           tau_1: list of tau values for the state (1/sqrt(2)|01>+|10>)\n",
    "           results_1: list of dictionaries or floats, depending on the algorithm,\n",
    "                    with the results of the algorithm for the state (1/sqrt(2)|01>+|10>)\n",
    "           xlabel: label for the x axis\n",
    "           ylabel: label for the y axis\n",
    "           save_path: path to save the figure\n",
    "           algorithm: 'qpea' or 'qpea_circular' or 'ipea' to select the algorithm and the method to prepare the data\n",
    "           name: name of the figure\n",
    "           regression: boolean to plot the regression line\n",
    "           regression_lim: list of two elements with the limits of the regression line for the state (1/sqrt(2)|01>-|10>)\n",
    "           regression_lim_1: list of two elements with the limits of the regression line for the state (1/sqrt(2)|01>+|10>)\n",
    "    '''\n",
    "    # If the algorithm is qpea \n",
    "    if algorithm == 'qpea':\n",
    "        # prepare the data with the most probable entry of the dictionary\n",
    "        phase = prepare_data(results,method='most probable')\n",
    "        phase_1 = prepare_data(results_1,method='most probable')\n",
    "        # plot and save the data\n",
    "        plot_and_save(tau, phase ,tau_1,phase_1, xlabel, ylabel, save_path,name = name, regression = regression,\n",
    "                      regression_lim = regression_lim, regression_lim_1 = regression_lim_1)\n",
    "        \n",
    "    # If the algorithm is qpea_circular   \n",
    "    if algorithm == 'qpea_circular':\n",
    "        # prepare the data with the circular mean\n",
    "        phase_circular = prepare_data(results,method='circular')\n",
    "        phase_circular_1 = prepare_data(results_1,method='circular')\n",
    "        # plot and save the data\n",
    "        plot_and_save(tau, phase_circular ,tau_1,phase_circular_1, xlabel, ylabel, save_path,name = 'circular_'+name, regression = regression,\n",
    "                      regression_lim = regression_lim, regression_lim_1 = regression_lim_1)\n",
    "        \n",
    "    # If the algorithm is ipea\n",
    "    if algorithm == 'ipea':\n",
    "        phase = prepare_data(results,method='None')\n",
    "        phase_1 = prepare_data(results_1,method='None')\n",
    "        # plot and save the data\n",
    "        plot_and_save(tau, phase ,tau_1,phase_1, xlabel, ylabel, save_path,name = name, regression = regression,\n",
    "                      regression_lim = regression_lim, regression_lim_1 = regression_lim_1)\n",
    "\n",
    "# Function to open the data\n",
    "def open_data(tau_file,results_file,tau_file_1,results_file_1):\n",
    "    with open(tau_file, 'rb') as f:\n",
    "        tau = pkl.load(f)\n",
    "    with open(results_file, 'rb') as f:\n",
    "        results = pkl.load(f)\n",
    "    with open(tau_file_1, 'rb') as f:\n",
    "        tau_1 = pkl.load(f)\n",
    "    with open(results_file_1, 'rb') as f:\n",
    "        results_1 = pkl.load(f)\n",
    "    return tau, results, tau_1, results_1\n",
    "        \n",
    "        "
   ]
  },
  {
   "cell_type": "markdown",
   "metadata": {},
   "source": [
    "# QPEA figures\n",
    "## Simulator"
   ]
  },
  {
   "cell_type": "code",
   "execution_count": 6,
   "metadata": {},
   "outputs": [
    {
     "name": "stderr",
     "output_type": "stream",
     "text": [
      "/home/mgabijo/miniconda3/envs/phase/lib/python3.7/site-packages/qiskit/version.py:20: DeprecationWarning: pkg_resources is deprecated as an API. See https://setuptools.pypa.io/en/latest/pkg_resources.html\n",
      "  import pkg_resources\n"
     ]
    }
   ],
   "source": [
    "tau, results, tau_1, results_1 = open_data('tau_qpea_simulator.pkl','resposta_qpea_simulator.pkl','tau_qpea_simulator_1.pkl'\n",
    "                                           ,'resposta_qpea_simulator_1.pkl')"
   ]
  },
  {
   "cell_type": "code",
   "execution_count": 7,
   "metadata": {},
   "outputs": [
    {
     "name": "stdout",
     "output_type": "stream",
     "text": [
      "slope:  0.46299619808551373 intercept:  0.013636363636363613 r_value:  0.9925164910917023 p_value:  1.3598586304023192e-08 std_err:  0.020139482279893046\n",
      "slope:  -0.15614955418293502 intercept:  0.9890530925013683 r_value:  -0.9906613412063898 p_value:  4.951360159174532e-24 std_err:  0.00421473044240742\n"
     ]
    }
   ],
   "source": [
    "plot_data(tau, results,tau_1,results_1, r'$\\tau$', r'$\\phi$', 'figures', algorithm = 'qpea',name = 'qpea_simulator', regression = True,\n",
    "          regression_lim_1 = [2,len(tau)], regression_lim = [0,10])"
   ]
  },
  {
   "cell_type": "code",
   "execution_count": 9,
   "metadata": {},
   "outputs": [
    {
     "name": "stdout",
     "output_type": "stream",
     "text": [
      "slope:  0.396491712654556 intercept:  -0.7181115737026792 r_value:  0.9741744457631257 p_value:  1.8864856408056974e-06 std_err:  0.03249151605028678\n",
      "slope:  -0.19981035773612874 intercept:  1.2572704921606688 r_value:  -0.9894506003749355 p_value:  1.0109693622985218e-09 std_err:  0.00925133341381923\n"
     ]
    }
   ],
   "source": [
    "# circular\n",
    "plot_data(tau, results ,tau_1,results_1, r'$\\tau$', r'$\\phi$', 'figures', algorithm='qpea_circular',name = 'circular_qpea_simulator', regression = True,\n",
    "                regression_lim = [5,15], regression_lim_1 = [-12,len(tau)])"
   ]
  },
  {
   "cell_type": "markdown",
   "metadata": {},
   "source": [
    "## Brisbane device"
   ]
  },
  {
   "cell_type": "code",
   "execution_count": 10,
   "metadata": {},
   "outputs": [],
   "source": [
    "tau, results, tau_1, results_1 = open_data('tau_qpea_qpea_brisbane.pkl','resposta_qpea_brisbane.pkl','tau_qpea_brisbane_1.pkl'\n",
    "                                           ,'resposta_qpea_brisbane_1.pkl')"
   ]
  },
  {
   "cell_type": "code",
   "execution_count": 11,
   "metadata": {},
   "outputs": [],
   "source": [
    "plot_data(tau, results,tau_1,results_1, r'$\\tau$', r'$\\phi$', 'figures', algorithm = 'qpea',name = 'qpea_brisbane')"
   ]
  },
  {
   "cell_type": "code",
   "execution_count": 12,
   "metadata": {},
   "outputs": [],
   "source": [
    "#circular\n",
    "plot_data(tau, results,tau_1,results_1, r'$\\tau$', r'$\\phi$', 'figures', algorithm = 'qpea_circular',name = 'qpea_brisbane')"
   ]
  },
  {
   "cell_type": "markdown",
   "metadata": {},
   "source": [
    "# IPEA Figures\n",
    "## Simulator"
   ]
  },
  {
   "cell_type": "code",
   "execution_count": 13,
   "metadata": {},
   "outputs": [],
   "source": [
    "tau, results, tau_1, results_1 = open_data('tau_ipea_simulator.pkl','resposta_ipea_simulator.pkl','tau_ipea_simulator_1.pkl', 'resposta_ipea_simulator_1.pkl')"
   ]
  },
  {
   "cell_type": "code",
   "execution_count": 14,
   "metadata": {},
   "outputs": [
    {
     "name": "stdout",
     "output_type": "stream",
     "text": [
      "No method selected\n",
      "No method selected\n",
      "slope:  0.46299619808551373 intercept:  0.013636363636363613 r_value:  0.9925164910917023 p_value:  1.3598586304023192e-08 std_err:  0.020139482279893046\n",
      "slope:  -0.15614955418293502 intercept:  0.9890530925013683 r_value:  -0.9906613412063898 p_value:  4.951360159174532e-24 std_err:  0.00421473044240742\n"
     ]
    }
   ],
   "source": [
    "plot_data(tau, results,tau_1,results_1, r'$\\tau$', r'$\\phi$', 'figures', algorithm = 'ipea',name = 'ipea_simulator', regression = True,\n",
    "          regression_lim_1 = [2,len(tau)], regression_lim = [0,10])"
   ]
  },
  {
   "cell_type": "markdown",
   "metadata": {},
   "source": [
    "## Brisbane"
   ]
  },
  {
   "cell_type": "code",
   "execution_count": 15,
   "metadata": {},
   "outputs": [],
   "source": [
    "# Brisbane\n",
    "tau, results, tau_1, results_1 = open_data('tau_ipea_brisbane.pkl','resposta_ipea_brisbane.pkl','tau_ipea_brisbane_1.pkl', 'resposta_ipea_brisbane_1.pkl')"
   ]
  },
  {
   "cell_type": "code",
   "execution_count": 16,
   "metadata": {},
   "outputs": [
    {
     "name": "stdout",
     "output_type": "stream",
     "text": [
      "No method selected\n",
      "No method selected\n",
      "slope:  0.45472840883398674 intercept:  -0.023809523809523836 r_value:  0.9683640522700839 p_value:  7.728952361388356e-05 std_err:  0.04783887302742056\n",
      "slope:  -0.16529638999281412 intercept:  1.0098180076628354 r_value:  -0.9840689763221884 p_value:  4.944858831860119e-21 std_err:  0.005856678430591098\n"
     ]
    }
   ],
   "source": [
    "plot_data(tau, results,tau_1,results_1, r'$\\tau$', r'$\\phi$', 'figures', algorithm = 'ipea',name = 'ipea_brisbane', regression = True,\n",
    "          regression_lim_1 = [2,len(tau)], regression_lim = [2,10])"
   ]
  },
  {
   "cell_type": "markdown",
   "metadata": {},
   "source": [
    "# VQE figures"
   ]
  },
  {
   "cell_type": "code",
   "execution_count": 2,
   "metadata": {},
   "outputs": [],
   "source": [
    "# Open the data for the noise\n",
    "with open('vqe_noise_brisbane.pkl', 'rb') as f:\n",
    "    vqe_noise = pkl.load(f)\n",
    "energy_noise = vqe_noise['Energy_values']\n",
    "\n",
    "# Open the data for the simulator\n",
    "with open('vqe_simulator.pkl', 'rb') as f:\n",
    "    vqe_simulator = pkl.load(f)\n",
    "energy_simulator = vqe_simulator['Energy_values']"
   ]
  },
  {
   "cell_type": "code",
   "execution_count": 4,
   "metadata": {},
   "outputs": [
    {
     "data": {
      "image/png": "[encoded data removed]",
      "text/plain": [
       "<Figure size 1000x600 with 1 Axes>"
      ]
     },
     "metadata": {},
     "output_type": "display_data"
    }
   ],
   "source": [
    "plt.figure(figsize=(10, 6))\n",
    "plt.plot(energy_noise, label = r'Noisy Simulator', color = 'darkblue')\n",
    "    \n",
    "plt.plot(energy_simulator, label = r'Ideal Simulator', color = 'r')\n",
    "\n",
    "# Figure settings\n",
    "plt.xlabel(r'Iteration', fontsize=18)\n",
    "plt.ylabel(r'Energy', fontsize=18)\n",
    "plt.rcParams['font.size'] = 16\n",
    "plt.rcParams['legend.fontsize'] = 16\n",
    "plt.rcParams['axes.linewidth'] = 2\n",
    "plt.legend()\n",
    "plt.savefig(f'figures/vqe.pdf', bbox_inches='tight',format='pdf')\n",
    "#plt.close()\n",
    "        "
   ]
  },
  {
   "cell_type": "code",
   "execution_count": 3,
   "metadata": {},
   "outputs": [
    {
     "name": "stdout",
     "output_type": "stream",
     "text": [
      "Minimum energy value for noisy simulator:  -2.676\n",
      "Minimum energy value for ideal simulator:  -2.9969\n"
     ]
    }
   ],
   "source": [
    "print('Minimum energy value for noisy simulator: ', vqe_noise['Energy_found'])\n",
    "print('Minimum energy value for ideal simulator: ', vqe_simulator['Energy_found'])"
   ]
  }
 ],
 "metadata": {
  "kernelspec": {
   "display_name": "phase",
   "language": "python",
   "name": "python3"
  },
  "language_info": {
   "codemirror_mode": {
    "name": "ipython",
    "version": 3
   },
   "file_extension": ".py",
   "mimetype": "text/x-python",
   "name": "python",
   "nbconvert_exporter": "python",
   "pygments_lexer": "ipython3",
   "version": "3.7.12"
  }
 },
 "nbformat": 4,
 "nbformat_minor": 2
}
